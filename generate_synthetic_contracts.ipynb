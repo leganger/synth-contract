{
 "cells": [
  {
   "cell_type": "markdown",
   "metadata": {},
   "source": [
    "# Generating synthetic contracts with signature areas"
   ]
  },
  {
   "cell_type": "markdown",
   "metadata": {},
   "source": [
    "We want to generate synthetic contract pages with random text, randomly placed signature areas, and have these signature areas randomly contain/not contain a human-looking signature. The purpose is to train a ML-model in recognizing signature areas in scanned text documents, and wheter or not these signature areas contain a human-looking signature."
   ]
  },
  {
   "cell_type": "markdown",
   "metadata": {},
   "source": [
    "We first write a small function that will random sample the high-level features of a page:"
   ]
  },
  {
   "cell_type": "code",
   "execution_count": 2,
   "metadata": {},
   "outputs": [],
   "source": [
    "import numpy as np"
   ]
  },
  {
   "cell_type": "code",
   "execution_count": 21,
   "metadata": {},
   "outputs": [],
   "source": [
    "def sample_high_level_features(text_number_of_areas_min=0, \n",
    "                               text_number_of_areas_max=10,\n",
    "                               signature_number_of_areas_min=0, \n",
    "                               signature_number_of_areas_max=6,\n",
    "                               ):\n",
    "    \n",
    "    text_number_of_areas = np.random.randint(low=text_number_of_areas_min,\n",
    "                                             high=(text_number_of_areas_max+1))\n",
    "    \n",
    "    signature_number_of_areas = np.random.randint(low=signature_number_of_areas_min,\n",
    "                                                  high=(signature_number_of_areas_max+1))\n",
    "\n",
    "    return(text_number_of_areas, signature_number_of_areas)"
   ]
  },
  {
   "cell_type": "markdown",
   "metadata": {},
   "source": [
    "Likewise we need a function to randomly sample the placement of a text/signature box. We include some logic to make sure all boxes are placed inside the page:"
   ]
  },
  {
   "cell_type": "code",
   "execution_count": 23,
   "metadata": {},
   "outputs": [],
   "source": [
    "def sample_box_placement(width_min, width_max, height_min, height_max, page_width, page_height):\n",
    "    \n",
    "    width = np.random.randint(low=width_min, high=width_max)\n",
    "    height = np.random.randint(low=height_min, high=height_max)\n",
    "    \n",
    "    x_max = page_width - width\n",
    "    y_max = page_height - height\n",
    "    \n",
    "    x0 = np.random.randint(low=0, high=x_max)\n",
    "    y0 = np.random.randint(low=0, high=y_max)\n",
    "    \n",
    "    x1 = x0 + width\n",
    "    y1 = y0 + height\n",
    "    \n",
    "    return((x0,x1),(y0,y1))"
   ]
  },
  {
   "cell_type": "markdown",
   "metadata": {},
   "source": [
    "We also need to keep track of previously added boxes and make sure new boxes don't overlap these. Later we'll decide what to do if a box overlaps."
   ]
  },
  {
   "cell_type": "code",
   "execution_count": null,
   "metadata": {},
   "outputs": [],
   "source": [
    "def check_box_overlap(box_coordinates, existing_boxes_list):"
   ]
  }
 ],
 "metadata": {
  "kernelspec": {
   "display_name": "Python 3",
   "language": "python",
   "name": "python3"
  },
  "language_info": {
   "codemirror_mode": {
    "name": "ipython",
    "version": 3
   },
   "file_extension": ".py",
   "mimetype": "text/x-python",
   "name": "python",
   "nbconvert_exporter": "python",
   "pygments_lexer": "ipython3",
   "version": "3.6.5"
  }
 },
 "nbformat": 4,
 "nbformat_minor": 2
}
